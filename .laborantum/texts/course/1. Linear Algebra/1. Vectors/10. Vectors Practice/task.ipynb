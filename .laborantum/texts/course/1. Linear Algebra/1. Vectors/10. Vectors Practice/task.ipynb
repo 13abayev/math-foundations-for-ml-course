{
    "cells": [
        {
            "cell_type": "markdown",
            "metadata": {},
            "source": [
                "# Vectors Practice"
            ]
        },
        {
            "cell_type": "markdown",
            "metadata": {},
            "source": [
                "In this chapter we will work with vectors and code Gramm-Schmidt Orthonormalization Algorithm"
            ]
        },
        {
            "cell_type": "code",
            "execution_count": 1,
            "metadata": {},
            "outputs": [],
            "source": [
                "import numpy as np\n",
                "import matplotlib.pyplot as plt\n",
                "import lovely_numpy as ln\n",
                "import json_tricks\n",
                "\n"
            ]
        },
        {
            "cell_type": "code",
            "execution_count": 2,
            "metadata": {},
            "outputs": [],
            "source": [
                "inputs = json_tricks.load('inputs/inputs.json')\n",
                "answers = {}"
            ]
        },
        {
            "cell_type": "markdown",
            "metadata": {},
            "source": [
                "In your input you have arrys of shape $N \\times 2$, which means that you have 2 vectors both having N coordinates"
            ]
        },
        {
            "cell_type": "code",
            "execution_count": 3,
            "metadata": {},
            "outputs": [
                {
                    "name": "stdout",
                    "output_type": "stream",
                    "text": [
                        "array[2, 2] i64 n=4 x∈[-10, 5] μ=-2.500 σ=6.185 [[2, 5], [-10, -7]]\n",
                        "array[5, 2] i64 n=10 x∈[-9, 9] μ=-1.500 σ=5.784 [[-7, -3], [-1, 9], [8, -6], [-4, 2], [-9, -4]]\n",
                        "array[9, 2] i64 n=18 x∈[-10, 9] μ=2.833 σ=6.039\n",
                        "array[5, 2] i64 n=10 x∈[-10, 8] μ=-2.700 σ=5.900 [[4, -3], [-10, -9], [-1, -10], [0, -7], [1, 8]]\n",
                        "array[9, 2] i64 n=18 x∈[-10, 7] μ=-4.056 σ=4.696\n",
                        "array[9, 2] i64 n=18 x∈[-10, 8] μ=-0.944 σ=5.038\n",
                        "array[9, 2] i64 n=18 x∈[-10, 8] μ=-1.778 σ=6.554\n",
                        "array[4, 2] i64 n=8 x∈[-10, 8] μ=0.500 σ=5.220 [[3, 6], [-3, -1], [-10, 0], [8, 1]]\n",
                        "array[4, 2] i64 n=8 x∈[-8, 8] μ=-2.250 σ=6.741 [[-8, -8], [-7, -7], [8, 4], [-7, 7]]\n",
                        "array[4, 2] i64 n=8 x∈[-9, 4] μ=-1.500 σ=3.905 [[4, -1], [-9, -6], [0, 1], [-2, 1]]\n",
                        "array[4, 2] i64 n=8 x∈[-10, 9] μ=0.500 σ=7.314 [[9, 6], [-10, -10], [-4, 9], [4, 0]]\n",
                        "array[5, 2] i64 n=10 x∈[-8, 6] μ=-1.600 σ=4.673 [[-2, 3], [-8, -7], [-8, 1], [3, 6], [-2, -2]]\n",
                        "array[5, 2] i64 n=10 x∈[-10, 4] μ=-3.000 σ=4.919 [[-2, -8], [-7, 2], [4, -10], [-6, -7], [3, 1]]\n",
                        "array[6, 2] i64 n=12 x∈[-10, 9] μ=0.083 σ=5.951\n",
                        "array[7, 2] i64 n=14 x∈[-9, 8] μ=0.786 σ=5.129\n",
                        "array[9, 2] i64 n=18 x∈[-10, 9] μ=-1.222 σ=5.287\n",
                        "array[8, 2] i64 n=16 x∈[-7, 8] μ=-1.500 σ=4.213\n",
                        "array[7, 2] i64 n=14 x∈[-10, 6] μ=-4.500 σ=4.671\n",
                        "array[7, 2] i64 n=14 x∈[-9, 8] μ=-0.571 σ=6.821\n",
                        "array[3, 2] i64 n=6 x∈[-8, 2] μ=-3.667 σ=4.190 [[-8, -5], [-5, 2], [2, -8]]\n",
                        "array[9, 2] i64 n=18 x∈[-10, 9] μ=1.500 σ=5.167\n",
                        "array[3, 2] i64 n=6 x∈[-10, 9] μ=-1.333 σ=6.968 [[-10, 6], [0, -6], [-7, 9]]\n",
                        "array[2, 2] i64 n=4 x∈[-10, 9] μ=0.250 σ=7.084 [[4, -10], [9, -2]]\n",
                        "array[9, 2] i64 n=18 x∈[-10, 9] μ=-1.444 σ=6.030\n",
                        "array[9, 2] i64 n=18 x∈[-9, 9] μ=1.333 σ=5.812\n",
                        "array[8, 2] i64 n=16 x∈[-7, 7] μ=0.562 σ=4.168\n",
                        "array[2, 2] i64 n=4 x∈[-7, 5] μ=-2.000 σ=4.416 [[5, -2], [-7, -4]]\n",
                        "array[3, 2] i64 n=6 x∈[-8, 8] μ=0. σ=6.028 [[-3, -8], [6, 8], [3, -6]]\n",
                        "array[6, 2] i64 n=12 x∈[-10, 9] μ=-0.333 σ=6.835\n",
                        "array[5, 2] i64 n=10 x∈[-9, 7] μ=-0.900 σ=6.220 [[-6, 7], [6, -7], [0, -9], [-6, -6], [6, 6]]\n",
                        "array[9, 2] i64 n=18 x∈[-9, 9] μ=0. σ=5.281\n",
                        "array[6, 2] i64 n=12 x∈[-10, 7] μ=-5.250 σ=4.399\n",
                        "array[6, 2] i64 n=12 x∈[-10, 9] μ=-2.667 σ=5.185\n",
                        "array[5, 2] i64 n=10 x∈[-10, 9] μ=-1.200 σ=5.776 [[-4, -3], [9, -10], [-5, 1], [-1, 9], [-3, -5]]\n",
                        "array[6, 2] i64 n=12 x∈[-10, 9] μ=-0.333 σ=6.749\n",
                        "array[4, 2] i64 n=8 x∈[-10, 9] μ=0.375 σ=6.800 [[4, -10], [9, -4], [-9, 2], [8, 3]]\n",
                        "array[3, 2] i64 n=6 x∈[-8, 7] μ=-1.000 σ=6.137 [[-6, 7], [-7, -8], [3, 5]]\n",
                        "array[9, 2] i64 n=18 x∈[-8, 9] μ=0.611 σ=5.668\n",
                        "array[4, 2] i64 n=8 x∈[-10, 3] μ=-1.500 σ=4.031 [[-2, -10], [0, 1], [3, -3], [-4, 3]]\n",
                        "array[7, 2] i64 n=14 x∈[-9, 8] μ=-0.214 σ=5.772\n",
                        "array[6, 2] i64 n=12 x∈[-10, 9] μ=0.417 σ=6.357\n",
                        "array[4, 2] i64 n=8 x∈[-10, 5] μ=-4.375 σ=5.384 [[-9, -10], [-5, -8], [5, -7], [4, -5]]\n",
                        "array[5, 2] i64 n=10 x∈[-8, 9] μ=-1.300 σ=5.763 [[9, -4], [-4, 9], [-4, -8], [-4, -5], [-5, 3]]\n",
                        "array[3, 2] i64 n=6 x∈[-7, 9] μ=1.500 σ=6.048 [[-6, 3], [7, -7], [3, 9]]\n",
                        "array[4, 2] i64 n=8 x∈[-9, 6] μ=-1.625 σ=4.998 [[-2, 3], [-5, 6], [4, -5], [-9, -5]]\n",
                        "array[8, 2] i64 n=16 x∈[-7, 8] μ=0.312 σ=4.727\n",
                        "array[4, 2] i64 n=8 x∈[-7, 7] μ=-2.125 σ=5.441 [[-6, 7], [-5, -7], [-5, -2], [-6, 7]]\n",
                        "array[9, 2] i64 n=18 x∈[-10, 9] μ=0.889 σ=6.724\n",
                        "array[5, 2] i64 n=10 x∈[-10, 8] μ=-0.800 σ=5.564 [[-1, 4], [-10, 2], [-1, 8], [-6, -3], [-7, 6]]\n",
                        "array[6, 2] i64 n=12 x∈[-7, 9] μ=2.667 σ=5.088\n",
                        "array[6, 2] i64 n=12 x∈[-9, 8] μ=-0.750 σ=5.479\n",
                        "array[3, 2] i64 n=6 x∈[-6, 2] μ=-2.167 σ=2.967 [[-6, -6], [-1, 0], [2, -2]]\n",
                        "array[3, 2] i64 n=6 x∈[-10, 8] μ=-4.333 σ=5.991 [[-5, -3], [-10, -9], [-7, 8]]\n",
                        "array[2, 2] i64 n=4 x∈[-3, 8] μ=2.750 σ=5.262 [[8, -2], [8, -3]]\n",
                        "array[4, 2] i64 n=8 x∈[-10, 9] μ=-0.250 σ=6.666 [[8, -7], [2, 9], [3, -10], [0, -7]]\n",
                        "array[8, 2] i64 n=16 x∈[-10, 9] μ=-1.312 σ=6.361\n",
                        "array[8, 2] i64 n=16 x∈[-9, 9] μ=-0.938 σ=6.098\n",
                        "array[6, 2] i64 n=12 x∈[-9, 9] μ=1.333 σ=4.955\n",
                        "array[3, 2] i64 n=6 x∈[-6, 6] μ=0. σ=4.123 [[3, 2], [-1, -4], [-6, 6]]\n",
                        "array[2, 2] i64 n=4 x∈[-5, 5] μ=-2.500 σ=4.330 [[-5, 5], [-5, -5]]\n",
                        "array[5, 2] i64 n=10 x∈[-10, 9] μ=-0.300 σ=7.170 [[7, -10], [6, 6], [-10, 0], [2, -10], [-3, 9]]\n",
                        "array[7, 2] i64 n=14 x∈[-10, 9] μ=0.429 σ=5.973\n",
                        "array[6, 2] i64 n=12 x∈[-7, 7] μ=0.583 σ=5.187\n",
                        "array[8, 2] i64 n=16 x∈[-9, 8] μ=-0.438 σ=5.722\n",
                        "array[8, 2] i64 n=16 x∈[-10, 9] μ=-0.812 σ=5.769\n",
                        "array[3, 2] i64 n=6 x∈[-6, 9] μ=-0.333 σ=5.735 [[-5, 6], [-4, -2], [9, -6]]\n",
                        "array[6, 2] i64 n=12 x∈[-9, 9] μ=-0.500 σ=5.058\n",
                        "array[7, 2] i64 n=14 x∈[-10, 7] μ=-1.214 σ=5.734\n",
                        "array[2, 2] i64 n=4 x∈[-5, 9] μ=2.250 σ=5.068 [[1, 4], [-5, 9]]\n",
                        "array[9, 2] i64 n=18 x∈[-10, 8] μ=-2.000 σ=5.055\n",
                        "array[3, 2] i64 n=6 x∈[-7, 7] μ=-3.333 σ=4.714 [[-6, -5], [-5, -4], [-7, 7]]\n",
                        "array[9, 2] i64 n=18 x∈[-8, 9] μ=0.278 σ=5.895\n",
                        "array[3, 2] i64 n=6 x∈[-8, 5] μ=-3.667 σ=4.922 [[-6, -6], [5, -8], [1, -8]]\n",
                        "array[3, 2] i64 n=6 x∈[-9, 9] μ=0.333 σ=7.016 [[4, 9], [6, 1], [-9, -9]]\n",
                        "array[9, 2] i64 n=18 x∈[-8, 9] μ=-0.278 σ=5.445\n",
                        "array[3, 2] i64 n=6 x∈[-7, 9] μ=1.167 σ=6.012 [[9, 7], [1, -7], [3, -6]]\n",
                        "array[7, 2] i64 n=14 x∈[-7, 9] μ=1.143 σ=4.642\n",
                        "array[6, 2] i64 n=12 x∈[-10, 9] μ=0.500 σ=6.614\n",
                        "array[4, 2] i64 n=8 x∈[-9, 5] μ=0.500 σ=4.243 [[4, 5], [-9, 2], [1, -3], [1, 3]]\n",
                        "array[4, 2] i64 n=8 x∈[-9, 6] μ=-3.250 σ=6.437 [[-9, 6], [-9, 6], [-9, -9], [2, -4]]\n",
                        "array[2, 2] i64 n=4 x∈[-2, 9] μ=2.500 σ=4.153 [[-2, 3], [0, 9]]\n",
                        "array[4, 2] i64 n=8 x∈[-10, 9] μ=-0.375 σ=7.680 [[-10, -6], [-10, -5], [5, 9], [5, 9]]\n",
                        "array[3, 2] i64 n=6 x∈[-4, 6] μ=1.000 σ=3.162 [[2, 3], [0, -1], [6, -4]]\n",
                        "array[7, 2] i64 n=14 x∈[-10, 8] μ=0.500 σ=6.695\n",
                        "array[4, 2] i64 n=8 x∈[-3, 5] μ=2.000 σ=2.345 [[4, 4], [-3, 2], [1, 2], [5, 1]]\n",
                        "array[7, 2] i64 n=14 x∈[-10, 8] μ=0.857 σ=6.610\n",
                        "array[8, 2] i64 n=16 x∈[-10, 6] μ=-2.125 σ=4.608\n",
                        "array[3, 2] i64 n=6 x∈[-8, 1] μ=-4.333 σ=2.925 [[-7, -5], [-4, 1], [-8, -3]]\n",
                        "array[5, 2] i64 n=10 x∈[-10, 9] μ=2.700 σ=5.551 [[-1, -10], [6, 7], [-2, 9], [5, 6], [7, 0]]\n",
                        "array[3, 2] i64 n=6 x∈[-7, 6] μ=-2.500 σ=4.387 [[-7, -3], [-1, -7], [-3, 6]]\n",
                        "array[4, 2] i64 n=8 x∈[-10, 9] μ=-1.375 σ=6.556 [[-6, -6], [-4, -10], [7, -5], [9, 4]]\n",
                        "array[5, 2] i64 n=10 x∈[-10, 7] μ=-0.300 σ=5.460 [[-2, -8], [7, 5], [6, -2], [2, -3], [2, -10]]\n",
                        "array[6, 2] i64 n=12 x∈[-10, 8] μ=-0.083 σ=4.991\n",
                        "array[6, 2] i64 n=12 x∈[-10, 8] μ=-0.833 σ=6.135\n",
                        "array[3, 2] i64 n=6 x∈[-9, 8] μ=2.167 σ=5.871 [[-1, 8], [-9, 6], [7, 2]]\n",
                        "array[8, 2] i64 n=16 x∈[-9, 9] μ=-0.562 σ=6.855\n",
                        "array[7, 2] i64 n=14 x∈[-10, 9] μ=-1.214 σ=6.592\n",
                        "array[4, 2] i64 n=8 x∈[-3, 9] μ=4.500 σ=3.937 [[9, 2], [-3, 3], [7, 9], [2, 7]]\n",
                        "array[2, 2] i64 n=4 x∈[-9, 0] μ=-3.750 σ=3.897 [[-9, -6], [0, 0]]\n",
                        "array[2, 2] i64 n=4 x∈[-9, 9] μ=-1.250 σ=7.562 [[-8, -9], [3, 9]]\n",
                        "array[9, 2] i64 n=18 x∈[-8, 9] μ=0.611 σ=6.066\n"
                    ]
                }
            ],
            "source": [
                "for one_input in inputs:\n",
                "    print(ln.lovely(one_input['X']))"
            ]
        },
        {
            "cell_type": "markdown",
            "metadata": {},
            "source": [
                "# Task 1. Vector lenghts\n",
                "\n",
                "- Write a function that calculates vector lengths, answer should return array of shape $2$\n",
                "- Apply this function to all the inputs"
            ]
        },
        {
            "cell_type": "code",
            "execution_count": 41,
            "metadata": {},
            "outputs": [],
            "source": [
                "def get_length(X):   \n",
                "    res = np.array([np.sum(v ** 2) ** 0.5 for v in X]).reshape(-1, 1)\n",
                "    return res"
            ]
        },
        {
            "cell_type": "code",
            "execution_count": 42,
            "metadata": {},
            "outputs": [],
            "source": [
                "answers['lengths'] = [\n",
                "    get_length(**inp) for inp in inputs[:3]\n",
                "]"
            ]
        },
        {
            "cell_type": "markdown",
            "metadata": {},
            "source": [
                "# Task 2. Vector directions\n",
                "\n",
                "- Write a function that calculates vector directions. Result should be of the same shape as the original array X\n",
                "- Use $10^{-8}$ addition in division to avoid division by zero\n",
                "- Apply this function to all arrays in the inputs"
            ]
        },
        {
            "cell_type": "code",
            "execution_count": 44,
            "metadata": {},
            "outputs": [],
            "source": [
                "def get_directions(X):\n",
                "    res = X / (get_length(X) + 1e-8)\n",
                "    return res"
            ]
        },
        {
            "cell_type": "code",
            "execution_count": 45,
            "metadata": {},
            "outputs": [],
            "source": [
                "answers['directions'] = [\n",
                "    get_directions(**inp) for inp in inputs\n",
                "]"
            ]
        },
        {
            "cell_type": "markdown",
            "metadata": {},
            "source": [
                "# Step 3. Visualization\n",
                "\n",
                "We will visualize vectors and directions using `matplotlib` "
            ]
        },
        {
            "cell_type": "code",
            "execution_count": 46,
            "metadata": {},
            "outputs": [
                {
                    "data": {
                        "image/png": "[encoded data removed]",
                        "text/plain": [
                            "<Figure size 1000x1000 with 1 Axes>"
                        ]
                    },
                    "metadata": {},
                    "output_type": "display_data"
                }
            ],
            "source": [
                "import numpy as np\n",
                "import matplotlib.pyplot as plt\n",
                "\n",
                "plt.figure(figsize=(10, 10))\n",
                "ax = plt.gca()\n",
                "X = inputs[0]['X']\n",
                "vecs = np.concatenate([np.zeros_like(X), X.T], axis=1)\n",
                "X, Y, U, V = zip(*vecs)\n",
                "ax.quiver(X, Y, U, V, angles='xy', scale_units='xy', scale=1, color = 'red')\n",
                "\n",
                "X = answers['directions'][0] * 2\n",
                "norms = np.concatenate([np.zeros_like(X), X.T], axis=1)\n",
                "X, Y, U, V = zip(*norms)\n",
                "ax.quiver(X, Y, U, V, angles='xy', scale_units='xy', scale=1, color = 'blue')\n",
                "ax.set_xlim([-10, 10])\n",
                "ax.set_ylim([-10, 10])\n",
                "plt.draw()\n",
                "plt.grid()\n",
                "plt.legend(['original', 'normalized'])\n",
                "plt.show()\n"
            ]
        },
        {
            "cell_type": "markdown",
            "metadata": {},
            "source": [
                "# Task 4. Scalar Product\n",
                "\n",
                "Write a function that calculates\n",
                "- cosine distance between the vectors\n",
                "- use $10^{-8}$ additional constant in the denominator for the sake of numerical stability"
            ]
        },
        {
            "cell_type": "code",
            "execution_count": null,
            "metadata": {},
            "outputs": [],
            "source": [
                "def get_cosine(X):\n",
                "    res = None\n",
                "    ## YOUR CODE HERE\n",
                "    return res"
            ]
        },
        {
            "cell_type": "code",
            "execution_count": null,
            "metadata": {},
            "outputs": [],
            "source": [
                "answers['cosine'] = [\n",
                "    get_cosine(**inp) for inp in inputs\n",
                "]"
            ]
        },
        {
            "cell_type": "markdown",
            "metadata": {},
            "source": [
                "# Task 5. Orthonormalization\n",
                "\n",
                "Create a pair of orthonormal vectors\n",
                "- Take the first vector and normalize it\n",
                "- Take the second vector, remove the collinear component to the first one\n",
                "- Normalize it"
            ]
        },
        {
            "cell_type": "code",
            "execution_count": null,
            "metadata": {},
            "outputs": [],
            "source": [
                "def get_orthonormal(X):\n",
                "    res = X.copy().astype('float32')\n",
                "    ## YOUR CODE HERE\n",
                "\n",
                "    return res"
            ]
        },
        {
            "cell_type": "code",
            "execution_count": null,
            "metadata": {},
            "outputs": [],
            "source": [
                "answers['orthonormal'] = [\n",
                "    get_orthonormal(**inp) for inp in inputs\n",
                "]"
            ]
        },
        {
            "cell_type": "markdown",
            "metadata": {},
            "source": [
                "# 6. Visualization"
            ]
        },
        {
            "cell_type": "code",
            "execution_count": null,
            "metadata": {},
            "outputs": [],
            "source": [
                "import numpy as np\n",
                "import matplotlib.pyplot as plt\n",
                "\n",
                "plt.figure(figsize=(10, 10))\n",
                "ax = plt.gca()\n",
                "X = inputs[0]['X']\n",
                "print(X)\n",
                "vecs = np.concatenate([np.zeros_like(X), X.T], axis=1)\n",
                "X, Y, U, V = zip(*vecs)\n",
                "ax.quiver(X, Y, U, V, angles='xy', scale_units='xy', scale=1, color = 'red')\n",
                "\n",
                "X = answers['orthonormal'][0] * 2\n",
                "print(X)\n",
                "norms = np.concatenate([np.zeros_like(X), X.T], axis=1)\n",
                "X, Y, U, V = zip(*norms)\n",
                "ax.quiver(X, Y, U, V, angles='xy', scale_units='xy', scale=1, color = 'blue')\n",
                "ax.set_xlim([-10, 10])\n",
                "ax.set_ylim([-10, 10])\n",
                "plt.draw()\n",
                "plt.grid()\n",
                "plt.legend(['original', 'normalized'])\n",
                "plt.show()\n"
            ]
        },
        {
            "cell_type": "markdown",
            "metadata": {},
            "source": [
                "# 7. Saving the answer"
            ]
        },
        {
            "cell_type": "code",
            "execution_count": null,
            "metadata": {},
            "outputs": [],
            "source": [
                "json_tricks.dump(answers, '.answer.json')"
            ]
        }
    ],
    "metadata": {
        "kernelspec": {
            "display_name": "Python 3",
            "language": "python",
            "name": "python3"
        },
        "language_info": {
            "codemirror_mode": {
                "name": "ipython",
                "version": 3
            },
            "file_extension": ".py",
            "mimetype": "text/x-python",
            "name": "python",
            "nbconvert_exporter": "python",
            "pygments_lexer": "ipython3",
            "version": "3.11.11"
        }
    },
    "nbformat": 4,
    "nbformat_minor": 2
}
